{
  "cells": [
    {
      "cell_type": "markdown",
      "metadata": {
        "id": "H9wADwK78DCz"
      },
      "source": [
        "# Proyek Analisis Data: Bike Sharing\n",
        "- **Nama:** Muh. Syuaib\n",
        "- **Email:** msyuaib768@gmail.com\n",
        "- **ID Dicoding:** muhsyuaib"
      ]
    },
    {
      "cell_type": "markdown",
      "metadata": {
        "id": "eE0raob58DC0"
      },
      "source": [
        "## Menentukan Pertanyaan Bisnis"
      ]
    },
    {
      "cell_type": "markdown",
      "metadata": {
        "id": "GmQeQ5YF8DC0"
      },
      "source": [
        "- Bagaimana pola penggunaan sepeda berdasarkan musim dan kondisi cuaca?\n",
        "- Pada jam berapa dan hari apa penggunaan sepeda paling tinggi?"
      ]
    },
    {
      "cell_type": "markdown",
      "metadata": {
        "id": "H-z4QGlO8DC1"
      },
      "source": [
        "## Import Semua Packages/Library yang Digunakan"
      ]
    },
    {
      "cell_type": "code",
      "execution_count": 1,
      "metadata": {
        "id": "FVYwaObI8DC1"
      },
      "outputs": [],
      "source": [
        "import numpy as np\n",
        "import pandas as pd\n",
        "import matplotlib.pyplot as plt\n",
        "import seaborn as sns"
      ]
    },
    {
      "cell_type": "markdown",
      "metadata": {
        "id": "h_Sh51Xy8DC1"
      },
      "source": [
        "## Data Wrangling"
      ]
    },
    {
      "cell_type": "markdown",
      "metadata": {
        "id": "sXU2GBYu8DC1"
      },
      "source": [
        "### Gathering Data"
      ]
    },
    {
      "cell_type": "code",
      "execution_count": 2,
      "metadata": {
        "id": "zjCBk1BI8DC1",
        "colab": {
          "base_uri": "https://localhost:8080/"
        },
        "outputId": "27c0a5c2-6a3d-49b6-f50b-16845f4c55c4"
      },
      "outputs": [
        {
          "output_type": "stream",
          "name": "stdout",
          "text": [
            "   instant      dteday  season  yr  mnth  holiday  weekday  workingday  \\\n",
            "0        1  2011-01-01       1   0     1        0        6           0   \n",
            "1        2  2011-01-02       1   0     1        0        0           0   \n",
            "2        3  2011-01-03       1   0     1        0        1           1   \n",
            "3        4  2011-01-04       1   0     1        0        2           1   \n",
            "4        5  2011-01-05       1   0     1        0        3           1   \n",
            "\n",
            "   weathersit      temp     atemp       hum  windspeed  casual  registered  \\\n",
            "0           2  0.344167  0.363625  0.805833   0.160446     331         654   \n",
            "1           2  0.363478  0.353739  0.696087   0.248539     131         670   \n",
            "2           1  0.196364  0.189405  0.437273   0.248309     120        1229   \n",
            "3           1  0.200000  0.212122  0.590435   0.160296     108        1454   \n",
            "4           1  0.226957  0.229270  0.436957   0.186900      82        1518   \n",
            "\n",
            "    cnt  \n",
            "0   985  \n",
            "1   801  \n",
            "2  1349  \n",
            "3  1562  \n",
            "4  1600  \n",
            "   instant      dteday  season  yr  mnth  hr  holiday  weekday  workingday  \\\n",
            "0        1  2011-01-01       1   0     1   0        0        6           0   \n",
            "1        2  2011-01-01       1   0     1   1        0        6           0   \n",
            "2        3  2011-01-01       1   0     1   2        0        6           0   \n",
            "3        4  2011-01-01       1   0     1   3        0        6           0   \n",
            "4        5  2011-01-01       1   0     1   4        0        6           0   \n",
            "\n",
            "   weathersit  temp   atemp   hum  windspeed  casual  registered  cnt  \n",
            "0           1  0.24  0.2879  0.81        0.0       3          13   16  \n",
            "1           1  0.22  0.2727  0.80        0.0       8          32   40  \n",
            "2           1  0.22  0.2727  0.80        0.0       5          27   32  \n",
            "3           1  0.24  0.2879  0.75        0.0       3          10   13  \n",
            "4           1  0.24  0.2879  0.75        0.0       0           1    1  \n"
          ]
        }
      ],
      "source": [
        "# Mengimpor data yang telah diupload\n",
        "df_day = pd.read_csv('/content/day.csv')\n",
        "df_hour = pd.read_csv('/content/hour.csv')\n",
        "\n",
        "# Menampilkan beberapa baris pertama dari dataset\n",
        "print(df_day.head())\n",
        "print(df_hour.head())"
      ]
    },
    {
      "cell_type": "markdown",
      "source": [
        "**Insight:**\n",
        "- Dataset day.csv mencatat jumlah peminjaman sepeda berdasarkan hari\n",
        "- Dataset hour.csv mencatat peminjaman sepeda berdasarkan jam"
      ],
      "metadata": {
        "id": "MMi6xGaDkbCi"
      }
    },
    {
      "cell_type": "markdown",
      "metadata": {
        "id": "FHSiqaZp8DC1"
      },
      "source": [
        "### Assessing Data"
      ]
    },
    {
      "cell_type": "code",
      "source": [
        "# Menilai informasi dasar dari kedua dataset\n",
        "print(df_day.info())\n",
        "print(df_hour.info())\n",
        "\n",
        "# Mengecek adanya nilai yang hilang (missing values)\n",
        "print(df_day.isnull().sum())\n",
        "print(df_hour.isnull().sum())\n",
        "\n",
        "# Menampilkan statistik deskriptif\n",
        "print(df_day.describe())\n",
        "print(df_hour.describe())"
      ],
      "metadata": {
        "id": "ax-3tEjc9Cj1",
        "colab": {
          "base_uri": "https://localhost:8080/"
        },
        "outputId": "ef65f673-aa98-463b-d535-0cd323f93c95"
      },
      "execution_count": 3,
      "outputs": [
        {
          "output_type": "stream",
          "name": "stdout",
          "text": [
            "<class 'pandas.core.frame.DataFrame'>\n",
            "RangeIndex: 731 entries, 0 to 730\n",
            "Data columns (total 16 columns):\n",
            " #   Column      Non-Null Count  Dtype  \n",
            "---  ------      --------------  -----  \n",
            " 0   instant     731 non-null    int64  \n",
            " 1   dteday      731 non-null    object \n",
            " 2   season      731 non-null    int64  \n",
            " 3   yr          731 non-null    int64  \n",
            " 4   mnth        731 non-null    int64  \n",
            " 5   holiday     731 non-null    int64  \n",
            " 6   weekday     731 non-null    int64  \n",
            " 7   workingday  731 non-null    int64  \n",
            " 8   weathersit  731 non-null    int64  \n",
            " 9   temp        731 non-null    float64\n",
            " 10  atemp       731 non-null    float64\n",
            " 11  hum         731 non-null    float64\n",
            " 12  windspeed   731 non-null    float64\n",
            " 13  casual      731 non-null    int64  \n",
            " 14  registered  731 non-null    int64  \n",
            " 15  cnt         731 non-null    int64  \n",
            "dtypes: float64(4), int64(11), object(1)\n",
            "memory usage: 91.5+ KB\n",
            "None\n",
            "<class 'pandas.core.frame.DataFrame'>\n",
            "RangeIndex: 17379 entries, 0 to 17378\n",
            "Data columns (total 17 columns):\n",
            " #   Column      Non-Null Count  Dtype  \n",
            "---  ------      --------------  -----  \n",
            " 0   instant     17379 non-null  int64  \n",
            " 1   dteday      17379 non-null  object \n",
            " 2   season      17379 non-null  int64  \n",
            " 3   yr          17379 non-null  int64  \n",
            " 4   mnth        17379 non-null  int64  \n",
            " 5   hr          17379 non-null  int64  \n",
            " 6   holiday     17379 non-null  int64  \n",
            " 7   weekday     17379 non-null  int64  \n",
            " 8   workingday  17379 non-null  int64  \n",
            " 9   weathersit  17379 non-null  int64  \n",
            " 10  temp        17379 non-null  float64\n",
            " 11  atemp       17379 non-null  float64\n",
            " 12  hum         17379 non-null  float64\n",
            " 13  windspeed   17379 non-null  float64\n",
            " 14  casual      17379 non-null  int64  \n",
            " 15  registered  17379 non-null  int64  \n",
            " 16  cnt         17379 non-null  int64  \n",
            "dtypes: float64(4), int64(12), object(1)\n",
            "memory usage: 2.3+ MB\n",
            "None\n",
            "instant       0\n",
            "dteday        0\n",
            "season        0\n",
            "yr            0\n",
            "mnth          0\n",
            "holiday       0\n",
            "weekday       0\n",
            "workingday    0\n",
            "weathersit    0\n",
            "temp          0\n",
            "atemp         0\n",
            "hum           0\n",
            "windspeed     0\n",
            "casual        0\n",
            "registered    0\n",
            "cnt           0\n",
            "dtype: int64\n",
            "instant       0\n",
            "dteday        0\n",
            "season        0\n",
            "yr            0\n",
            "mnth          0\n",
            "hr            0\n",
            "holiday       0\n",
            "weekday       0\n",
            "workingday    0\n",
            "weathersit    0\n",
            "temp          0\n",
            "atemp         0\n",
            "hum           0\n",
            "windspeed     0\n",
            "casual        0\n",
            "registered    0\n",
            "cnt           0\n",
            "dtype: int64\n",
            "          instant      season          yr        mnth     holiday     weekday  \\\n",
            "count  731.000000  731.000000  731.000000  731.000000  731.000000  731.000000   \n",
            "mean   366.000000    2.496580    0.500684    6.519836    0.028728    2.997264   \n",
            "std    211.165812    1.110807    0.500342    3.451913    0.167155    2.004787   \n",
            "min      1.000000    1.000000    0.000000    1.000000    0.000000    0.000000   \n",
            "25%    183.500000    2.000000    0.000000    4.000000    0.000000    1.000000   \n",
            "50%    366.000000    3.000000    1.000000    7.000000    0.000000    3.000000   \n",
            "75%    548.500000    3.000000    1.000000   10.000000    0.000000    5.000000   \n",
            "max    731.000000    4.000000    1.000000   12.000000    1.000000    6.000000   \n",
            "\n",
            "       workingday  weathersit        temp       atemp         hum   windspeed  \\\n",
            "count  731.000000  731.000000  731.000000  731.000000  731.000000  731.000000   \n",
            "mean     0.683995    1.395349    0.495385    0.474354    0.627894    0.190486   \n",
            "std      0.465233    0.544894    0.183051    0.162961    0.142429    0.077498   \n",
            "min      0.000000    1.000000    0.059130    0.079070    0.000000    0.022392   \n",
            "25%      0.000000    1.000000    0.337083    0.337842    0.520000    0.134950   \n",
            "50%      1.000000    1.000000    0.498333    0.486733    0.626667    0.180975   \n",
            "75%      1.000000    2.000000    0.655417    0.608602    0.730209    0.233214   \n",
            "max      1.000000    3.000000    0.861667    0.840896    0.972500    0.507463   \n",
            "\n",
            "            casual   registered          cnt  \n",
            "count   731.000000   731.000000   731.000000  \n",
            "mean    848.176471  3656.172367  4504.348837  \n",
            "std     686.622488  1560.256377  1937.211452  \n",
            "min       2.000000    20.000000    22.000000  \n",
            "25%     315.500000  2497.000000  3152.000000  \n",
            "50%     713.000000  3662.000000  4548.000000  \n",
            "75%    1096.000000  4776.500000  5956.000000  \n",
            "max    3410.000000  6946.000000  8714.000000  \n",
            "          instant        season            yr          mnth            hr  \\\n",
            "count  17379.0000  17379.000000  17379.000000  17379.000000  17379.000000   \n",
            "mean    8690.0000      2.501640      0.502561      6.537775     11.546752   \n",
            "std     5017.0295      1.106918      0.500008      3.438776      6.914405   \n",
            "min        1.0000      1.000000      0.000000      1.000000      0.000000   \n",
            "25%     4345.5000      2.000000      0.000000      4.000000      6.000000   \n",
            "50%     8690.0000      3.000000      1.000000      7.000000     12.000000   \n",
            "75%    13034.5000      3.000000      1.000000     10.000000     18.000000   \n",
            "max    17379.0000      4.000000      1.000000     12.000000     23.000000   \n",
            "\n",
            "            holiday       weekday    workingday    weathersit          temp  \\\n",
            "count  17379.000000  17379.000000  17379.000000  17379.000000  17379.000000   \n",
            "mean       0.028770      3.003683      0.682721      1.425283      0.496987   \n",
            "std        0.167165      2.005771      0.465431      0.639357      0.192556   \n",
            "min        0.000000      0.000000      0.000000      1.000000      0.020000   \n",
            "25%        0.000000      1.000000      0.000000      1.000000      0.340000   \n",
            "50%        0.000000      3.000000      1.000000      1.000000      0.500000   \n",
            "75%        0.000000      5.000000      1.000000      2.000000      0.660000   \n",
            "max        1.000000      6.000000      1.000000      4.000000      1.000000   \n",
            "\n",
            "              atemp           hum     windspeed        casual    registered  \\\n",
            "count  17379.000000  17379.000000  17379.000000  17379.000000  17379.000000   \n",
            "mean       0.475775      0.627229      0.190098     35.676218    153.786869   \n",
            "std        0.171850      0.192930      0.122340     49.305030    151.357286   \n",
            "min        0.000000      0.000000      0.000000      0.000000      0.000000   \n",
            "25%        0.333300      0.480000      0.104500      4.000000     34.000000   \n",
            "50%        0.484800      0.630000      0.194000     17.000000    115.000000   \n",
            "75%        0.621200      0.780000      0.253700     48.000000    220.000000   \n",
            "max        1.000000      1.000000      0.850700    367.000000    886.000000   \n",
            "\n",
            "                cnt  \n",
            "count  17379.000000  \n",
            "mean     189.463088  \n",
            "std      181.387599  \n",
            "min        1.000000  \n",
            "25%       40.000000  \n",
            "50%      142.000000  \n",
            "75%      281.000000  \n",
            "max      977.000000  \n"
          ]
        }
      ]
    },
    {
      "cell_type": "markdown",
      "source": [
        "**Insight:**\n",
        "- Tidak ada nilai yang hilang (missing values) dalam kedua dataset\n",
        "- Dataset memiliki beberapa kolom dengan tipe data yang tidak sesuai, seperti tanggal yang masih berupa string, sehingga perlu dikonversi."
      ],
      "metadata": {
        "id": "7dtxhAPrkhPL"
      }
    },
    {
      "cell_type": "markdown",
      "metadata": {
        "id": "EhN5R4hr8DC1"
      },
      "source": [
        "### Cleaning Data"
      ]
    },
    {
      "cell_type": "code",
      "source": [
        "# Mengubah kolom 'dteday' menjadi datetime untuk mempermudah analisis berbasis waktu\n",
        "df_day['dteday'] = pd.to_datetime(df_day['dteday'])\n",
        "df_hour['dteday'] = pd.to_datetime(df_hour['dteday'])\n",
        "\n",
        "# Menghapus kolom yang tidak diperlukan\n",
        "df_day.drop(['instant', 'windspeed'], axis=1, inplace=True)\n",
        "df_hour.drop(['instant', 'windspeed'], axis=1, inplace=True)\n",
        "\n",
        "# Mengganti nama beberapa kolom agar lebih mudah dipahami\n",
        "df_day.rename(columns={'dteday': 'dateday', 'yr': 'year', 'mnth': 'month', 'weekday': 'day_of_week',\n",
        "                       'weathersit': 'weather_situation', 'hum': 'humidity', 'cnt': 'count'}, inplace=True)\n",
        "df_hour.rename(columns={'dteday': 'dateday', 'yr': 'year', 'mnth': 'month', 'hr': 'hour', 'weekday': 'day_of_week',\n",
        "                        'weathersit': 'weather_situation', 'hum': 'humidity', 'cnt': 'count'}, inplace=True)\n",
        "\n",
        "# Mengubah nilai pada kolom 'season' menjadi deskripsi kategori yang lebih mudah dipahami\n",
        "df_day['season'] = df_day['season'].map({1: 'Spring', 2: 'Summer', 3: 'Fall', 4: 'Winter'})\n",
        "df_hour['season'] = df_hour['season'].map({1: 'Spring', 2: 'Summer', 3: 'Fall', 4: 'Winter'})\n",
        "\n",
        "# Mengubah nilai pada kolom 'weather_situation' menjadi deskripsi kategori yang lebih mudah dipahami\n",
        "df_day['weather_situation'] = df_day['weather_situation'].map({1: 'Clear', 2: 'Mist', 3: 'Light Snow', 4: 'Heavy Rain'})\n",
        "df_hour['weather_situation'] = df_hour['weather_situation'].map({1: 'Clear', 2: 'Mist', 3: 'Light Snow', 4: 'Heavy Rain'})\n",
        "\n",
        "# Mengubah nilai pada kolom 'day_of_week' menjadi nama hari yang lebih mudah dipahami\n",
        "df_day['day_of_week'] = df_day['day_of_week'].map({0: 'Sunday', 1: 'Monday', 2: 'Tuesday', 3: 'Wednesday',\n",
        "                                                   4: 'Thursday', 5: 'Friday', 6: 'Saturday'})\n",
        "df_hour['day_of_week'] = df_hour['day_of_week'].map({0: 'Sunday', 1: 'Monday', 2: 'Tuesday', 3: 'Wednesday',\n",
        "                                                     4: 'Thursday', 5: 'Friday', 6: 'Saturday'})"
      ],
      "metadata": {
        "id": "jVnYpprE9Evz"
      },
      "execution_count": 4,
      "outputs": []
    },
    {
      "cell_type": "markdown",
      "source": [
        "**Insight:**\n",
        "- Kolom dteday diubah menjadi tipe datetime untuk mempermudah analisis berbasis waktu, dan kolom yang tidak relevan dihapus dari kedua dataset.\n",
        "- Kolom season, weather_situation, dan day_of_week yang sebelumnya berisi nilai numerik diubah menjadi deskripsi kategori yang lebih mudah dipahami."
      ],
      "metadata": {
        "id": "Q_5ejIqckiSP"
      }
    },
    {
      "cell_type": "markdown",
      "metadata": {
        "id": "gp-Y6wU38DC1"
      },
      "source": [
        "## Exploratory Data Analysis (EDA)"
      ]
    },
    {
      "cell_type": "markdown",
      "metadata": {
        "id": "MW7WF2kr8DC1"
      },
      "source": [
        "### Explore Pola Penggunaan Sepeda Berdasarkan Musim dan Cuaca\n"
      ]
    },
    {
      "cell_type": "code",
      "execution_count": 5,
      "metadata": {
        "id": "e9CQCZjk8DC2",
        "colab": {
          "base_uri": "https://localhost:8080/"
        },
        "outputId": "4d710935-311e-4968-a158-679faebda548"
      },
      "outputs": [
        {
          "output_type": "stream",
          "name": "stdout",
          "text": [
            "   season weather_situation        count\n",
            "0    Fall             Clear  5878.257353\n",
            "1    Fall        Light Snow  2751.750000\n",
            "2    Fall              Mist  5222.479167\n",
            "3  Spring             Clear  2811.135135\n",
            "4  Spring        Light Snow   934.750000\n"
          ]
        }
      ],
      "source": [
        "# Menganalisis peminjaman sepeda berdasarkan musim dan kondisi cuaca\n",
        "season_weather_df = df_day.groupby(['season', 'weather_situation'])['count'].mean().reset_index()\n",
        "\n",
        "# Menampilkan hasil analisis\n",
        "print(season_weather_df.head())"
      ]
    },
    {
      "cell_type": "markdown",
      "source": [
        "**Insight:**\n",
        "- Peminjaman sepeda cenderung lebih tinggi pada musim semi dan gugur (spring and fall), terlepas dari kondisi cuaca.\n",
        "- Cuaca cerah cenderung meningkatkan jumlah peminjaman sepeda, terutama pada musim gugur."
      ],
      "metadata": {
        "id": "Jiz9WcK-piof"
      }
    },
    {
      "cell_type": "markdown",
      "source": [
        "### Explore Penggunaan Sepeda Berdasarkan Jam dan Hari\n"
      ],
      "metadata": {
        "id": "o8fdiO77pR5u"
      }
    },
    {
      "cell_type": "code",
      "source": [
        "# Menganalisis peminjaman sepeda berdasarkan jam\n",
        "hourly_usage_df = df_hour.groupby('hour')['count'].mean().reset_index()\n",
        "\n",
        "\n",
        "# Menganalisis peminjaman sepeda berdasarkan hari dalam seminggu\n",
        "daily_usage_df = df_day.groupby('day_of_week')['count'].mean().reset_index()\n",
        "\n",
        "# Menampilkan hasil analisis\n",
        "print(hourly_usage_df.head())\n",
        "print(daily_usage_df.head())"
      ],
      "metadata": {
        "colab": {
          "base_uri": "https://localhost:8080/"
        },
        "id": "a7fMnAVfpRrF",
        "outputId": "4580de9e-8031-4eca-99d5-9ee059d4c9c7"
      },
      "execution_count": 6,
      "outputs": [
        {
          "output_type": "stream",
          "name": "stdout",
          "text": [
            "   hour      count\n",
            "0     0  53.898072\n",
            "1     1  33.375691\n",
            "2     2  22.869930\n",
            "3     3  11.727403\n",
            "4     4   6.352941\n",
            "  day_of_week        count\n",
            "0      Friday  4690.288462\n",
            "1      Monday  4338.123810\n",
            "2    Saturday  4550.542857\n",
            "3      Sunday  4228.828571\n",
            "4    Thursday  4667.259615\n"
          ]
        }
      ]
    },
    {
      "cell_type": "markdown",
      "source": [
        "**Insight:**\n",
        "- Musim Gugur (Fall) menunjukkan tingkat penyewaan tertinggi, terutama pada kondisi cuaca cerah.\n",
        "- Peminjaman sepeda mencapai puncaknya pada sore hari (jam 17) dan di hari Jumat."
      ],
      "metadata": {
        "id": "th_Lzl2Fkj9O"
      }
    },
    {
      "cell_type": "markdown",
      "metadata": {
        "id": "zsyZjqak8DC2"
      },
      "source": [
        "## Visualization & Explanatory Analysis"
      ]
    },
    {
      "cell_type": "markdown",
      "metadata": {
        "id": "HZxOiQ6n8DC2"
      },
      "source": [
        "### Pertanyaan 1: Bagaimana pola penggunaan sepeda berdasarkan musim dan kondisi cuaca?"
      ]
    },
    {
      "cell_type": "code",
      "execution_count": 7,
      "metadata": {
        "id": "1swJUdAD8DC2",
        "colab": {
          "base_uri": "https://localhost:8080/",
          "height": 564
        },
        "outputId": "c3f208eb-65bc-4cb8-aa79-7a98fdc2eb0e"
      },
      "outputs": [
        {
          "output_type": "display_data",
          "data": {
            "text/plain": [
              "<Figure size 1200x600 with 1 Axes>"
            ],
            "image/png": "[encoded data removed]"
          },
          "metadata": {}
        }
      ],
      "source": [
        "# Visualisasi pengaruh musim terhadap jumlah peminjaman sepeda berdasarkan kondisi cuaca\n",
        "plt.figure(figsize=(12, 6))\n",
        "sns.barplot(x='season', y='count', data=df_day, hue='weather_situation')\n",
        "plt.title('Pola Penggunaan Sepeda Berdasarkan Musim dan Kondisi Cuaca')\n",
        "plt.xlabel('Musim')\n",
        "plt.ylabel('Rata-rata Jumlah Peminjaman Sepeda')\n",
        "plt.show()"
      ]
    },
    {
      "cell_type": "markdown",
      "source": [
        "**Insight:**\n",
        "- Penggunaan sepeda meningkat pada jam 17:00, yang menunjukkan bahwa orang cenderung menggunakan sepeda setelah bekerja atau pada sore hari.\n",
        "- Penggunaan sepeda lebih rendah pada jam-jam pagi hari (sebelum jam 7) dan malam hari (setelah jam 21)."
      ],
      "metadata": {
        "id": "JZtW-DrAzBAo"
      }
    },
    {
      "cell_type": "markdown",
      "metadata": {
        "id": "DgHI7CiU8DC2"
      },
      "source": [
        "### Pertanyaan 2: Pada jam berapa dan hari apa penggunaan sepeda paling tinggi?"
      ]
    },
    {
      "cell_type": "code",
      "execution_count": 8,
      "metadata": {
        "id": "Go0lCsvO8DC2",
        "colab": {
          "base_uri": "https://localhost:8080/",
          "height": 1000
        },
        "outputId": "26882856-9a13-45f6-fcdb-ae101411b7bd"
      },
      "outputs": [
        {
          "output_type": "display_data",
          "data": {
            "text/plain": [
              "<Figure size 1200x600 with 1 Axes>"
            ],
            "image/png": "[encoded data removed]"
          },
          "metadata": {}
        },
        {
          "output_type": "display_data",
          "data": {
            "text/plain": [
              "<Figure size 1200x600 with 1 Axes>"
            ],
            "image/png": "[encoded data removed]"
          },
          "metadata": {}
        }
      ],
      "source": [
        "# Visualisasi peminjaman sepeda berdasarkan jam\n",
        "plt.figure(figsize=(12, 6))\n",
        "sns.barplot(x='hour', y='count', data=df_hour)\n",
        "plt.title('Jumlah Peminjaman Sepeda Berdasarkan Jam')\n",
        "plt.xlabel('Jam')\n",
        "plt.ylabel('Jumlah Peminjaman')\n",
        "plt.show()\n",
        "\n",
        "# Visualisasi peminjaman sepeda berdasarkan hari dalam seminggu\n",
        "plt.figure(figsize=(12, 6))\n",
        "sns.barplot(x='day_of_week', y='count', data=df_day)\n",
        "plt.title('Jumlah Peminjaman Sepeda Berdasarkan Hari dalam Seminggu')\n",
        "plt.xlabel('Hari dalam Seminggu')\n",
        "plt.ylabel('Jumlah Peminjaman')\n",
        "plt.show()"
      ]
    },
    {
      "cell_type": "markdown",
      "source": [
        "**Insight:**\n",
        "- Peminjaman sepeda paling tinggi terjadi pada hari Jumat, yang mungkin menunjukkan adanya peningkatan penggunaan sepeda menjelang akhir pekan.\n",
        "- Penggunaan sepeda lebih rendah pada hari Minggu, yang bisa terkait dengan preferensi untuk beristirahat atau aktivitas lain di akhir pekan."
      ],
      "metadata": {
        "id": "_0-36BDLklRg"
      }
    },
    {
      "cell_type": "markdown",
      "source": [
        "## Analisis Lanjutan (Opsional)"
      ],
      "metadata": {
        "id": "9y4VUsmcYNZ5"
      }
    },
    {
      "cell_type": "markdown",
      "source": [
        "### Clustering"
      ],
      "metadata": {
        "id": "B4L0qItW7dye"
      }
    },
    {
      "cell_type": "code",
      "source": [
        "# Menambahkan fitur rata-rata jumlah peminjaman sepeda per bulan dan hari dalam seminggu\n",
        "df_day['monthly_avg'] = df_day.groupby('month')['count'].transform('mean')\n",
        "df_day['weekday_avg'] = df_day.groupby('day_of_week')['count'].transform('mean')\n",
        "\n",
        "# Clustering dengan binning: Membagi data peminjaman ke dalam 4 kategori\n",
        "df_day['usage_cluster'] = pd.cut(df_day['count'], bins=4, labels=['Low', 'Medium', 'High', 'Very High'])\n",
        "\n",
        "# Menampilkan beberapa baris dari hasil binning\n",
        "print(df_day[['count', 'usage_cluster']])"
      ],
      "metadata": {
        "id": "iWhnzsJGYUCO",
        "colab": {
          "base_uri": "https://localhost:8080/"
        },
        "outputId": "a94f4b84-70b6-4082-fe29-326dd2022ac0"
      },
      "execution_count": 9,
      "outputs": [
        {
          "output_type": "stream",
          "name": "stdout",
          "text": [
            "     count usage_cluster\n",
            "0      985           Low\n",
            "1      801           Low\n",
            "2     1349           Low\n",
            "3     1562           Low\n",
            "4     1600           Low\n",
            "..     ...           ...\n",
            "726   2114           Low\n",
            "727   3095        Medium\n",
            "728   1341           Low\n",
            "729   1796           Low\n",
            "730   2729        Medium\n",
            "\n",
            "[731 rows x 2 columns]\n"
          ]
        }
      ]
    },
    {
      "cell_type": "markdown",
      "source": [
        "**Insight:**\n",
        "- Dengan binning memungkinkan pengelompokan pengguna berdasarkan tingkat penggunaan sepeda mereka, yang memungkinkan untuk merancang strategi pemasaran atau promosi berdasarkan segmentasi ini."
      ],
      "metadata": {
        "id": "UUjPf6W073hB"
      }
    },
    {
      "cell_type": "markdown",
      "metadata": {
        "id": "_WeHlCeX8DC2"
      },
      "source": [
        "## Conclusion"
      ]
    },
    {
      "cell_type": "markdown",
      "metadata": {
        "id": "ZTcyR48Y8DC2"
      },
      "source": [
        "- Musim gugur (fall) dan cuaca cerah cenderung meningkatkan jumlah peminjaman sepeda. Untuk perencanaan lebih lanjut, manajemen dapat memfokuskan promosi atau fasilitas pada musim ini untuk memaksimalkan penggunaan sepeda.\n",
        "- Peminjaman sepeda paling tinggi terjadi pada jam 17:00, kemungkinan besar pada saat orang pulang kerja atau aktivitas. Oleh karena itu, meningkatkan jumlah sepeda di area-area yang padat pada jam-jam tersebut dapat membantu memenuhi permintaan. Juga, hari Jumat merupakan hari dengan jumlah peminjaman tertinggi, yang bisa dipertimbangkan untuk melakukan promosi atau meningkatkan fasilitas pada hari-hari tersebut."
      ]
    },
    {
      "cell_type": "markdown",
      "source": [
        "## Save Dataset"
      ],
      "metadata": {
        "id": "yO_0dq-1t-G5"
      }
    },
    {
      "cell_type": "code",
      "source": [
        "df_day.to_csv(\"day_clean.csv\", index=False)"
      ],
      "metadata": {
        "id": "QZkOfmIWtu-R"
      },
      "execution_count": 10,
      "outputs": []
    },
    {
      "cell_type": "code",
      "source": [
        "df_hour.to_csv(\"hour_clean.csv\", index=False)"
      ],
      "metadata": {
        "id": "wl19YTEzuAyu"
      },
      "execution_count": 11,
      "outputs": []
    }
  ],
  "metadata": {
    "kernelspec": {
      "display_name": "Python 3",
      "language": "python",
      "name": "python3"
    },
    "language_info": {
      "name": "python",
      "version": "3.8.0 (tags/v3.8.0:fa919fd, Oct 14 2019, 19:21:23) [MSC v.1916 32 bit (Intel)]"
    },
    "orig_nbformat": 4,
    "vscode": {
      "interpreter": {
        "hash": "972b3bf27e332e87b5379f2791f6ef9dfc79c71018c370b0d7423235e20fe4d7"
      }
    },
    "colab": {
      "provenance": []
    }
  },
  "nbformat": 4,
  "nbformat_minor": 0
}